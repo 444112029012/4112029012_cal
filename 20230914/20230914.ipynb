{
  "nbformat": 4,
  "nbformat_minor": 0,
  "metadata": {
    "colab": {
      "provenance": []
    },
    "kernelspec": {
      "name": "python3",
      "display_name": "Python 3"
    },
    "language_info": {
      "name": "python"
    }
  },
  "cells": [
    {
      "cell_type": "code",
      "execution_count": 5,
      "metadata": {
        "id": "dAoiitbdlHfd",
        "colab": {
          "base_uri": "https://localhost:8080/"
        },
        "outputId": "54ae2cfd-c714-485c-c5b5-17818d5060d5"
      },
      "outputs": [
        {
          "output_type": "stream",
          "name": "stdout",
          "text": [
            "請輸入第1頁的框架號: 5\n",
            "請輸入第2頁的框架號: 9\n",
            "請輸入第3頁的框架號: 14\n",
            "請輸入第4頁的框架號: 7\n",
            "請輸入第5頁的框架號: 2\n",
            "{0: 5, 1: 9, 2: 14, 3: 7, 4: 2}\n",
            "輸入邏輯位址(10~20000):7000\n",
            "The physical address is 39768\n"
          ]
        }
      ],
      "source": [
        "def memory_addressing(page_table, page_size,logical_address):\n",
        "    # 計算頁號和偏移量\n",
        "    page_number, offset = divmod(logical_address, page_size)\n",
        "    # 查找頁表來獲得相應的框架號\n",
        "    if page_number in page_table:\n",
        "        frame_number = page_table[page_number]\n",
        "        # 計算物理地址\n",
        "        physical_address = frame_number * page_size + offset\n",
        "        print(f\"The physical address is {physical_address}\")\n",
        "    else:\n",
        "        print(\"Invalid page number, address translation failed.\")\n",
        "# 定義頁表，其中鍵是頁號，值是框架號\n",
        "page_table = dict()\n",
        "for i in range(5):\n",
        "    x = int(input(f\"請輸入第{i+1}頁的框架號: \"))\n",
        "    page_table[i] = x\n",
        "print(page_table)\n",
        "# 定義頁大小（例如：4096字節）\n",
        "page_size = 4096\n",
        "# 定義邏輯地址（例如：7000）\n",
        "logical_address = int(input(\"輸入邏輯位址(10~20000):\"))\n",
        "# 調用函數進行地址轉換\n",
        "memory_addressing(page_table, page_size, logical_address)"
      ]
    }
  ]
}